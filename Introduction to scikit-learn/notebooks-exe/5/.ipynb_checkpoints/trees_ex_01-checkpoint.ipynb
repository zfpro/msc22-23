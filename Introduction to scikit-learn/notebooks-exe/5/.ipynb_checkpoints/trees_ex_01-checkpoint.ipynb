{
 "cells": [
  {
   "cell_type": "markdown",
   "id": "5337ba99",
   "metadata": {},
   "source": [
    "# 📝 Exercise M5.01\n",
    "\n",
    "In the previous notebook, we showed how a tree with a depth of 1 level was\n",
    "working. The aim of this exercise is to repeat part of the previous\n",
    "experiment for a depth with 2 levels to show how the process of partitioning\n",
    "is repeated over time.\n",
    "\n",
    "Before to start, we will:\n",
    "\n",
    "* load the dataset;\n",
    "* split the dataset into training and testing dataset;\n",
    "* define the function to show the classification decision function."
   ]
  },
  {
   "cell_type": "code",
   "execution_count": null,
   "id": "2c7231b8",
   "metadata": {},
   "outputs": [],
   "source": [
    "import pandas as pd\n",
    "\n",
    "penguins = pd.read_csv(\"../datasets/penguins_classification.csv\")\n",
    "culmen_columns = [\"Culmen Length (mm)\", \"Culmen Depth (mm)\"]\n",
    "target_column = \"Species\""
   ]
  },
  {
   "cell_type": "code",
   "execution_count": null,
   "id": "72f37c0c",
   "metadata": {},
   "outputs": [],
   "source": [
    "from sklearn.model_selection import train_test_split\n",
    "\n",
    "data, target = penguins[culmen_columns], penguins[target_column]\n",
    "data_train, data_test, target_train, target_test = train_test_split(\n",
    "    data, target, random_state=0\n",
    ")"
   ]
  },
  {
   "cell_type": "markdown",
   "id": "bfb730c2",
   "metadata": {},
   "source": [
    "Create a decision tree classifier with a maximum depth of 2 levels and fit\n",
    "the training data. Once this classifier trained, plot the data and the\n",
    "decision boundary to see the benefit of increasing the depth. To plot the\n",
    "decision boundary, you should import the class `DecisionBoundaryDisplay`\n",
    "from the module `sklearn.inspection` as shown in the previous course notebook."
   ]
  },
  {
   "cell_type": "code",
   "execution_count": null,
   "id": "464dd8b3",
   "metadata": {},
   "outputs": [],
   "source": [
    "# Write your code here."
   ]
  },
  {
   "cell_type": "markdown",
   "id": "6c443844",
   "metadata": {},
   "source": [
    "Did we make use of the feature \"Culmen Length\"?\n",
    "Plot the tree using the function `sklearn.tree.plot_tree` to find out!"
   ]
  },
  {
   "cell_type": "code",
   "execution_count": null,
   "id": "7ce0733f",
   "metadata": {},
   "outputs": [],
   "source": [
    "# Write your code here."
   ]
  },
  {
   "cell_type": "markdown",
   "id": "480fa95c",
   "metadata": {},
   "source": [
    "Compute the accuracy of the decision tree on the testing data."
   ]
  },
  {
   "cell_type": "code",
   "execution_count": null,
   "id": "d50ec91f",
   "metadata": {},
   "outputs": [],
   "source": [
    "# Write your code here."
   ]
  }
 ],
 "metadata": {
  "jupytext": {
   "encoding": "# -*- coding: utf-8 -*-",
   "main_language": "python"
  },
  "kernelspec": {
   "display_name": "Python 3 (ipykernel)",
   "language": "python",
   "name": "python3"
  },
  "language_info": {
   "codemirror_mode": {
    "name": "ipython",
    "version": 3
   },
   "file_extension": ".py",
   "mimetype": "text/x-python",
   "name": "python",
   "nbconvert_exporter": "python",
   "pygments_lexer": "ipython3",
   "version": "3.9.7"
  }
 },
 "nbformat": 4,
 "nbformat_minor": 5
}
