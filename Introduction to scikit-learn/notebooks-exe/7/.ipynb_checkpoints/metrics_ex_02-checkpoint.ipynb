{
 "cells": [
  {
   "cell_type": "markdown",
   "id": "66ada21c",
   "metadata": {},
   "source": [
    "# 📝 Exercise 7.03\n",
    "\n",
    "As with the classification metrics exercise, we will evaluate the regression\n",
    "metrics within a cross-validation framework to get familiar with the syntax.\n",
    "\n",
    "We will use the Ames house prices dataset."
   ]
  },
  {
   "cell_type": "code",
   "execution_count": null,
   "id": "808fbbee",
   "metadata": {},
   "outputs": [],
   "source": [
    "import pandas as pd\n",
    "import numpy as np\n",
    "\n",
    "ames_housing = pd.read_csv(\"../../datasets/house_prices.csv\")\n",
    "data = ames_housing.drop(columns=\"SalePrice\")\n",
    "target = ames_housing[\"SalePrice\"]\n",
    "data = data.select_dtypes(np.number)\n",
    "target /= 1000"
   ]
  },
  {
   "cell_type": "markdown",
   "id": "880d3269",
   "metadata": {},
   "source": [
    "The first step will be to create a linear regression model."
   ]
  },
  {
   "cell_type": "code",
   "execution_count": null,
   "id": "7dedbba0",
   "metadata": {},
   "outputs": [],
   "source": [
    "# Write your code here."
   ]
  },
  {
   "cell_type": "markdown",
   "id": "95d2dbac",
   "metadata": {},
   "source": [
    "Then, use the `cross_val_score` to estimate the generalization performance of\n",
    "the model. Use a `KFold` cross-validation with 10 folds. Make the use of the\n",
    "$R^2$ score explicit by assigning the parameter `scoring` (even though it is\n",
    "the default score)."
   ]
  },
  {
   "cell_type": "code",
   "execution_count": null,
   "id": "3ea0cab4",
   "metadata": {},
   "outputs": [],
   "source": [
    "# Write your code here."
   ]
  },
  {
   "cell_type": "markdown",
   "id": "3d164363",
   "metadata": {},
   "source": [
    "Then, instead of using the $R^2$ score, use the mean absolute error. You need\n",
    "to refer to the documentation for the `scoring` parameter."
   ]
  },
  {
   "cell_type": "code",
   "execution_count": null,
   "id": "15b4bf54",
   "metadata": {},
   "outputs": [],
   "source": [
    "# Write your code here."
   ]
  },
  {
   "cell_type": "markdown",
   "id": "713e1bf8",
   "metadata": {},
   "source": [
    "Finally, use the `cross_validate` function and compute multiple scores/errors\n",
    "at once by passing a list of scorers to the `scoring` parameter. You can\n",
    "compute the $R^2$ score and the mean absolute error for instance."
   ]
  },
  {
   "cell_type": "code",
   "execution_count": null,
   "id": "df323700",
   "metadata": {},
   "outputs": [],
   "source": [
    "# Write your code here."
   ]
  }
 ],
 "metadata": {
  "jupytext": {
   "encoding": "# -*- coding: utf-8 -*-",
   "main_language": "python"
  },
  "kernelspec": {
   "display_name": "Python 3 (ipykernel)",
   "language": "python",
   "name": "python3"
  },
  "language_info": {
   "codemirror_mode": {
    "name": "ipython",
    "version": 3
   },
   "file_extension": ".py",
   "mimetype": "text/x-python",
   "name": "python",
   "nbconvert_exporter": "python",
   "pygments_lexer": "ipython3",
   "version": "3.9.7"
  }
 },
 "nbformat": 4,
 "nbformat_minor": 5
}
