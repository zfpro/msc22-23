{
 "cells": [
  {
   "cell_type": "markdown",
   "id": "9a0c94b4",
   "metadata": {},
   "source": [
    "# 📝 Exercise 06.02\n",
    "\n",
    "The aim of this exercise it to explore some attributes available in\n",
    "scikit-learn's random forest.\n",
    "\n",
    "First, we will fit the penguins regression dataset."
   ]
  },
  {
   "cell_type": "code",
   "execution_count": null,
   "id": "fe5d378a",
   "metadata": {},
   "outputs": [],
   "source": [
    "import pandas as pd\n",
    "from sklearn.model_selection import train_test_split\n",
    "\n",
    "penguins = pd.read_csv(\"../../datasets/penguins_regression.csv\")\n",
    "feature_name = \"Flipper Length (mm)\"\n",
    "target_name = \"Body Mass (g)\"\n",
    "data, target = penguins[[feature_name]], penguins[target_name]\n",
    "data_train, data_test, target_train, target_test = train_test_split(\n",
    "    data, target, random_state=0)"
   ]
  },
  {
   "cell_type": "markdown",
   "id": "790105d9",
   "metadata": {},
   "source": [
    "Create a random forest containing three trees. Train the forest and\n",
    "check the generalization performance on the testing set in terms of mean\n",
    "absolute error."
   ]
  },
  {
   "cell_type": "code",
   "execution_count": null,
   "id": "02051ce6",
   "metadata": {},
   "outputs": [],
   "source": [
    "# Write your code here."
   ]
  },
  {
   "cell_type": "markdown",
   "id": "bf546d43",
   "metadata": {},
   "source": [
    "We now aim to plot the predictions from the individual trees in the forest.\n",
    "For that purpose you have to create first a new dataset containing evenly\n",
    "spaced values for the flipper length over the interval between 170 mm and 230\n",
    "mm."
   ]
  },
  {
   "cell_type": "code",
   "execution_count": null,
   "id": "ab4ab833",
   "metadata": {},
   "outputs": [],
   "source": [
    "# Write your code here."
   ]
  },
  {
   "cell_type": "markdown",
   "id": "07cf775c",
   "metadata": {},
   "source": [
    "The trees contained in the forest that you created can be accessed with the\n",
    "attribute `estimators_`. Use them to predict the body mass corresponding to\n",
    "the values in this newly created dataset. Similarly find the predictions of\n",
    "the random forest in this dataset."
   ]
  },
  {
   "cell_type": "code",
   "execution_count": null,
   "id": "079b4ba1",
   "metadata": {},
   "outputs": [],
   "source": [
    "# Write your code here."
   ]
  },
  {
   "cell_type": "markdown",
   "id": "65bf8e64",
   "metadata": {},
   "source": [
    "Now make a plot that displays:\n",
    "- the whole `data` using a scatter plot;\n",
    "- the decision of each individual tree;\n",
    "- the decision of the random forest."
   ]
  },
  {
   "cell_type": "code",
   "execution_count": null,
   "id": "3746b4f6",
   "metadata": {},
   "outputs": [],
   "source": [
    "# Write your code here."
   ]
  }
 ],
 "metadata": {
  "jupytext": {
   "encoding": "# -*- coding: utf-8 -*-",
   "main_language": "python"
  },
  "kernelspec": {
   "display_name": "Python 3 (ipykernel)",
   "language": "python",
   "name": "python3"
  },
  "language_info": {
   "codemirror_mode": {
    "name": "ipython",
    "version": 3
   },
   "file_extension": ".py",
   "mimetype": "text/x-python",
   "name": "python",
   "nbconvert_exporter": "python",
   "pygments_lexer": "ipython3",
   "version": "3.9.7"
  }
 },
 "nbformat": 4,
 "nbformat_minor": 5
}
