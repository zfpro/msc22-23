{
 "cells": [
  {
   "cell_type": "markdown",
   "id": "3eacadea-4e41-4a2f-81da-159a9a6ed1f8",
   "metadata": {},
   "source": [
    "# Main take-away\n",
    "## Wrap-up\n",
    "In these notebooks, you learned:\n",
    "\n",
    "- to create a scikit-learn predictive model;\n",
    "\n",
    "- about the scikit-learn API to train and test a predictive model;\n",
    "\n",
    "- to process numerical data, notably using a Pipeline.\n",
    "\n",
    "- to process categorical data, notably using a OneHotEncoder and an OrdinalEncoder;\n",
    "\n",
    "- to handle and process mixed data types (i.e. numerical and categorical data), notably using a ColumnTransformer."
   ]
  },
  {
   "cell_type": "code",
   "execution_count": null,
   "id": "d69d9ce1-d250-4ec0-83b2-b0db025f18ce",
   "metadata": {},
   "outputs": [],
   "source": []
  }
 ],
 "metadata": {
  "kernelspec": {
   "display_name": "msc_ts_istec",
   "language": "python",
   "name": "msc_ts_istec"
  },
  "language_info": {
   "codemirror_mode": {
    "name": "ipython",
    "version": 3
   },
   "file_extension": ".py",
   "mimetype": "text/x-python",
   "name": "python",
   "nbconvert_exporter": "python",
   "pygments_lexer": "ipython3",
   "version": "3.9.16"
  }
 },
 "nbformat": 4,
 "nbformat_minor": 5
}
