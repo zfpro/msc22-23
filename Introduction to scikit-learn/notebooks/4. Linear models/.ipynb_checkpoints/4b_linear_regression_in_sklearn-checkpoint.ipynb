{
 "cells": [
  {
   "cell_type": "markdown",
   "id": "c4a2c38c",
   "metadata": {},
   "source": [
    "# Linear regression using scikit-learn\n",
    "\n",
    "In the previous notebook, we presented the parametrization of a linear model.\n",
    "During the exercise, you saw that varying parameters will give different models\n",
    "that will fit better or worse the data. To evaluate quantitatively this\n",
    "goodness of fit, you implemented a so-called metric.\n",
    "\n",
    "When doing machine learning, you are interested in selecting the model which\n",
    "will minimize the error on the data available the most.\n",
    "From the previous exercise, we could implement a brute-force approach,\n",
    "varying the weights and intercept and select the model with the lowest error.\n",
    "\n",
    "Hopefully, this problem of finding the best parameters values (i.e. that\n",
    "result in the lowest error) can be solved without the need to check every\n",
    "potential parameter combination. Indeed, this problem has a closed-form\n",
    "solution: the best parameter values can be found by solving an equation. This\n",
    "avoids the need for brute-force search. This strategy is implemented in\n",
    "scikit-learn."
   ]
  },
  {
   "cell_type": "code",
   "execution_count": null,
   "id": "6348562c",
   "metadata": {},
   "outputs": [],
   "source": [
    "import pandas as pd\n",
    "\n",
    "penguins = pd.read_csv(\"../../datasets/penguins_regression.csv\")\n",
    "feature_name = \"Flipper Length (mm)\"\n",
    "target_name = \"Body Mass (g)\"\n",
    "data, target = penguins[[feature_name]], penguins[target_name]"
   ]
  },
  {
   "cell_type": "code",
   "execution_count": null,
   "id": "b255beac",
   "metadata": {},
   "outputs": [],
   "source": [
    "from sklearn.linear_model import LinearRegression\n",
    "\n",
    "linear_regression = LinearRegression()\n",
    "linear_regression.fit(data, target)"
   ]
  },
  {
   "cell_type": "markdown",
   "id": "7594157e",
   "metadata": {},
   "source": [
    "The instance `linear_regression` will store the parameter values in the\n",
    "attributes `coef_` and `intercept_`. We can check what the optimal model\n",
    "found is:"
   ]
  },
  {
   "cell_type": "code",
   "execution_count": null,
   "id": "1bd8499b",
   "metadata": {},
   "outputs": [],
   "source": [
    "weight_flipper_length = linear_regression.coef_[0]\n",
    "weight_flipper_length"
   ]
  },
  {
   "cell_type": "code",
   "execution_count": null,
   "id": "7121da83",
   "metadata": {},
   "outputs": [],
   "source": [
    "intercept_body_mass = linear_regression.intercept_\n",
    "intercept_body_mass"
   ]
  },
  {
   "cell_type": "markdown",
   "id": "27f6b6c9",
   "metadata": {},
   "source": [
    "We will use the weight and intercept to plot the model found using the\n",
    "scikit-learn."
   ]
  },
  {
   "cell_type": "code",
   "execution_count": null,
   "id": "2e89225d",
   "metadata": {},
   "outputs": [],
   "source": [
    "import numpy as np\n",
    "\n",
    "flipper_length_range = np.linspace(data.min(), data.max(), num=300)\n",
    "predicted_body_mass = (\n",
    "    weight_flipper_length * flipper_length_range + intercept_body_mass)"
   ]
  },
  {
   "cell_type": "code",
   "execution_count": null,
   "id": "a9294170",
   "metadata": {},
   "outputs": [],
   "source": [
    "import matplotlib.pyplot as plt\n",
    "import seaborn as sns\n",
    "\n",
    "sns.scatterplot(x=data[feature_name], y=target, color=\"black\", alpha=0.5)\n",
    "plt.plot(flipper_length_range, predicted_body_mass)\n",
    "_ = plt.title(\"Model using LinearRegression from scikit-learn\")"
   ]
  },
  {
   "cell_type": "markdown",
   "id": "a145ace4",
   "metadata": {},
   "source": [
    "In the solution of the previous exercise, we implemented a function to\n",
    "compute the goodness of fit of a model. Indeed, we mentioned two metrics: (i)\n",
    "the mean squared error and (ii) the mean absolute error. These metrics are\n",
    "implemented in scikit-learn and we do not need to use our own implementation.\n",
    "\n",
    "We can first compute the mean squared error."
   ]
  },
  {
   "cell_type": "code",
   "execution_count": null,
   "id": "d401879b",
   "metadata": {},
   "outputs": [],
   "source": [
    "from sklearn.metrics import mean_squared_error\n",
    "\n",
    "inferred_body_mass = linear_regression.predict(data)\n",
    "model_error = mean_squared_error(target, inferred_body_mass)\n",
    "print(f\"The mean squared error of the optimal model is {model_error:.2f}\")"
   ]
  },
  {
   "cell_type": "markdown",
   "id": "ec24d8ef",
   "metadata": {},
   "source": [
    "A linear regression model minimizes the mean squared error on the training\n",
    "set. This means that the parameters obtained after the fit (i.e. `coef_` and\n",
    "`intercept_`) are the optimal parameters that minimizes the mean squared\n",
    "error. In other words, any other choice of parameters will yield a model with\n",
    "a higher mean squared error on the training set.\n",
    "\n",
    "However, the mean squared error is difficult to interpret. The mean absolute\n",
    "error is more intuitive since it provides an error in the same unit as the\n",
    "one of the target."
   ]
  },
  {
   "cell_type": "code",
   "execution_count": null,
   "id": "e750b643",
   "metadata": {},
   "outputs": [],
   "source": [
    "from sklearn.metrics import mean_absolute_error\n",
    "\n",
    "model_error = mean_absolute_error(target, inferred_body_mass)\n",
    "print(f\"The mean absolute error of the optimal model is {model_error:.2f} g\")"
   ]
  },
  {
   "cell_type": "markdown",
   "id": "033fc97c",
   "metadata": {
    "lines_to_next_cell": 2
   },
   "source": [
    "A mean absolute error of 313 means that in average, our model make an error\n",
    "of ± 313 grams when predicting the body mass of a penguin given its flipper\n",
    "length."
   ]
  },
  {
   "cell_type": "markdown",
   "id": "00099763",
   "metadata": {},
   "source": [
    "In this notebook, you saw how to train a linear regression model using\n",
    "scikit-learn."
   ]
  }
 ],
 "metadata": {
  "jupytext": {
   "main_language": "python"
  },
  "kernelspec": {
   "display_name": "Python 3 (ipykernel)",
   "language": "python",
   "name": "python3"
  },
  "language_info": {
   "codemirror_mode": {
    "name": "ipython",
    "version": 3
   },
   "file_extension": ".py",
   "mimetype": "text/x-python",
   "name": "python",
   "nbconvert_exporter": "python",
   "pygments_lexer": "ipython3",
   "version": "3.9.7"
  }
 },
 "nbformat": 4,
 "nbformat_minor": 5
}
