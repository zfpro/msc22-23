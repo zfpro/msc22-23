{
 "cells": [
  {
   "cell_type": "markdown",
   "id": "87af3350",
   "metadata": {},
   "source": [
    "# Regularization of linear regression model\n",
    "\n",
    "In this notebook, we will see the limitations of linear regression models and\n",
    "the advantage of using regularized models instead.\n",
    "\n",
    "Besides, we will also present the preprocessing required when dealing\n",
    "with regularized models, furthermore when the regularization parameter\n",
    "needs to be tuned.\n",
    "\n",
    "We will start by highlighting the over-fitting issue that can arise with\n",
    "a simple linear regression model.\n",
    "\n",
    "## Effect of regularization\n",
    "\n",
    "We will first load the California housing dataset."
   ]
  },
  {
   "cell_type": "code",
   "execution_count": null,
   "id": "5199768d",
   "metadata": {},
   "outputs": [],
   "source": [
    "from sklearn.datasets import fetch_california_housing\n",
    "\n",
    "data, target = fetch_california_housing(as_frame=True, return_X_y=True)\n",
    "target *= 100  # rescale the target in k$\n",
    "data.head()"
   ]
  },
  {
   "cell_type": "markdown",
   "id": "3df4b9fe",
   "metadata": {},
   "source": [
    "In one of the previous notebook, we showed that linear models could be used\n",
    "even in settings where `data` and `target` are not linearly linked.\n",
    "\n",
    "We showed that one can use the `PolynomialFeatures` transformer to create\n",
    "additional features encoding non-linear interactions between features.\n",
    "\n",
    "Here, we will use this transformer to augment the feature space.\n",
    "Subsequently, we will train a linear regression model. We will use the\n",
    "out-of-sample test set to evaluate the generalization capabilities of our\n",
    "model."
   ]
  },
  {
   "cell_type": "code",
   "execution_count": null,
   "id": "6c4f6aaf",
   "metadata": {},
   "outputs": [],
   "source": [
    "from sklearn.model_selection import cross_validate\n",
    "from sklearn.pipeline import make_pipeline\n",
    "from sklearn.preprocessing import PolynomialFeatures\n",
    "from sklearn.linear_model import LinearRegression\n",
    "\n",
    "linear_regression = make_pipeline(PolynomialFeatures(degree=2),\n",
    "                                  LinearRegression())\n",
    "cv_results = cross_validate(linear_regression, data, target,\n",
    "                            cv=10, scoring=\"neg_mean_squared_error\",\n",
    "                            return_train_score=True,\n",
    "                            return_estimator=True)"
   ]
  },
  {
   "cell_type": "markdown",
   "id": "e35dd5af",
   "metadata": {},
   "source": [
    "We can compare the mean squared error on the training and testing set to\n",
    "assess the generalization performance of our model."
   ]
  },
  {
   "cell_type": "code",
   "execution_count": null,
   "id": "d8659718",
   "metadata": {},
   "outputs": [],
   "source": [
    "train_error = -cv_results[\"train_score\"]\n",
    "print(f\"Mean squared error of linear regression model on the train set:\\n\"\n",
    "      f\"{train_error.mean():.3f} ± {train_error.std():.3f}\")"
   ]
  },
  {
   "cell_type": "code",
   "execution_count": null,
   "id": "6fec44f5",
   "metadata": {},
   "outputs": [],
   "source": [
    "test_error = -cv_results[\"test_score\"]\n",
    "print(f\"Mean squared error of linear regression model on the test set:\\n\"\n",
    "      f\"{test_error.mean():.3f} ± {test_error.std():.3f}\")"
   ]
  },
  {
   "cell_type": "markdown",
   "id": "3acd83f3",
   "metadata": {},
   "source": [
    "The score on the training set is much better. This generalization performance\n",
    "gap between the training and testing score is an indication that our model\n",
    "overfitted our training set.\n",
    "\n",
    "Indeed, this is one of the danger when augmenting the number of features\n",
    "with a `PolynomialFeatures` transformer. Our model will focus on some\n",
    "specific features. We can check the weights of the model to have a\n",
    "confirmation. Let's create a dataframe: the columns will contain the name\n",
    "of the feature while the line the coefficients values stored by each model\n",
    "during the cross-validation.\n",
    "\n",
    "Since we used a `PolynomialFeatures` to augment the data, we will create\n",
    "feature names representative of the feature combination. Scikit-learn\n",
    "provides a `get_feature_names_out` method for this purpose. First, let's get\n",
    "the first fitted model from the cross-validation."
   ]
  },
  {
   "cell_type": "code",
   "execution_count": null,
   "id": "74c7e4dd",
   "metadata": {},
   "outputs": [],
   "source": [
    "model_first_fold = cv_results[\"estimator\"][0]"
   ]
  },
  {
   "cell_type": "markdown",
   "id": "5107c391",
   "metadata": {},
   "source": [
    "Now, we can access to the fitted `PolynomialFeatures` to generate the feature\n",
    "names"
   ]
  },
  {
   "cell_type": "code",
   "execution_count": null,
   "id": "c5da0316",
   "metadata": {},
   "outputs": [],
   "source": [
    "feature_names = model_first_fold[0].get_feature_names_out(\n",
    "    input_features=data.columns)\n",
    "feature_names"
   ]
  },
  {
   "cell_type": "markdown",
   "id": "56286639",
   "metadata": {},
   "source": [
    "Finally, we can create the dataframe containing all the information."
   ]
  },
  {
   "cell_type": "code",
   "execution_count": null,
   "id": "e0dea288",
   "metadata": {},
   "outputs": [],
   "source": [
    "import pandas as pd\n",
    "\n",
    "coefs = [est[-1].coef_ for est in cv_results[\"estimator\"]]\n",
    "weights_linear_regression = pd.DataFrame(coefs, columns=feature_names)"
   ]
  },
  {
   "cell_type": "markdown",
   "id": "8b3538a2",
   "metadata": {},
   "source": [
    "Now, let's use a box plot to see the coefficients variations."
   ]
  },
  {
   "cell_type": "code",
   "execution_count": null,
   "id": "1ad9e8cf",
   "metadata": {},
   "outputs": [],
   "source": [
    "import matplotlib.pyplot as plt\n",
    "\n",
    "color = {\"whiskers\": \"black\", \"medians\": \"black\", \"caps\": \"black\"}\n",
    "weights_linear_regression.plot.box(color=color, vert=False, figsize=(6, 16))\n",
    "_ = plt.title(\"Linear regression coefficients\")"
   ]
  },
  {
   "cell_type": "markdown",
   "id": "958f1068",
   "metadata": {},
   "source": [
    "We can force the linear regression model to consider all features in a more\n",
    "homogeneous manner. In fact, we could force large positive or negative weight\n",
    "to shrink toward zero. This is known as regularization. We will use a ridge\n",
    "model which enforces such behavior."
   ]
  },
  {
   "cell_type": "code",
   "execution_count": null,
   "id": "f2f185ff",
   "metadata": {},
   "outputs": [],
   "source": [
    "from sklearn.linear_model import Ridge\n",
    "\n",
    "ridge = make_pipeline(PolynomialFeatures(degree=2),\n",
    "                      Ridge(alpha=100))\n",
    "cv_results = cross_validate(ridge, data, target,\n",
    "                            cv=10, scoring=\"neg_mean_squared_error\",\n",
    "                            return_train_score=True,\n",
    "                            return_estimator=True)"
   ]
  },
  {
   "cell_type": "markdown",
   "id": "255888a6",
   "metadata": {},
   "source": [
    "The code cell above will generate a couple of warnings because the features\n",
    "included both extremely large and extremely small values, which are causing\n",
    "numerical problems when training the predictive model.\n",
    "\n",
    "We can explore the train and test scores of this model."
   ]
  },
  {
   "cell_type": "code",
   "execution_count": null,
   "id": "e4f36527",
   "metadata": {},
   "outputs": [],
   "source": [
    "train_error = -cv_results[\"train_score\"]\n",
    "print(f\"Mean squared error of linear regression model on the train set:\\n\"\n",
    "      f\"{train_error.mean():.3f} ± {train_error.std():.3f}\")"
   ]
  },
  {
   "cell_type": "code",
   "execution_count": null,
   "id": "f5ef55e4",
   "metadata": {},
   "outputs": [],
   "source": [
    "test_error = -cv_results[\"test_score\"]\n",
    "print(f\"Mean squared error of linear regression model on the test set:\\n\"\n",
    "      f\"{test_error.mean():.3f} ± {test_error.std():.3f}\")"
   ]
  },
  {
   "cell_type": "markdown",
   "id": "e1fe7bc4",
   "metadata": {},
   "source": [
    "We see that the training and testing scores are much closer, indicating that\n",
    "our model is less overfitting. We can compare the values of the weights of\n",
    "ridge with the un-regularized linear regression."
   ]
  },
  {
   "cell_type": "code",
   "execution_count": null,
   "id": "f5ac0364",
   "metadata": {},
   "outputs": [],
   "source": [
    "coefs = [est[-1].coef_ for est in cv_results[\"estimator\"]]\n",
    "weights_ridge = pd.DataFrame(coefs, columns=feature_names)"
   ]
  },
  {
   "cell_type": "code",
   "execution_count": null,
   "id": "5898e35a",
   "metadata": {},
   "outputs": [],
   "source": [
    "weights_ridge.plot.box(color=color, vert=False, figsize=(6, 16))\n",
    "_ = plt.title(\"Ridge weights\")"
   ]
  },
  {
   "cell_type": "markdown",
   "id": "eee8c08e",
   "metadata": {},
   "source": [
    "By comparing the magnitude of the weights on this plot compared to the\n",
    "previous plot, we see that a ridge model will enforce all weights to have a\n",
    "similar magnitude, while the overall magnitude of the weights is shrunk\n",
    "towards zero with respect to the linear regression model.\n",
    "\n",
    "However, in this example, we omitted two important aspects: (i) the need to\n",
    "scale the data and (ii) the need to search for the best regularization\n",
    "parameter.\n",
    "\n",
    "## Feature scaling and regularization\n",
    "\n",
    "On the one hand, weights define the link between feature values and the\n",
    "predicted target.\n",
    "On the other hand, regularization adds constraints on the weights of the\n",
    "model through the `alpha` parameter. Therefore, the effect that feature\n",
    "rescaling has on the final weights also interacts with regularization.\n",
    "\n",
    "Let's consider the case where features live on the same scale/units: if\n",
    "two features are found to be equally important by the model, they will be\n",
    "affected similarly by regularization strength.\n",
    "\n",
    "Now, let's consider the scenario where features have completely different\n",
    "data scale (for instance age in years and annual revenue in dollars).\n",
    "If two features are as important, our model will boost the weights of\n",
    "features with small scale and reduce the weights of features with\n",
    "high scale.\n",
    "\n",
    "We recall that regularization forces weights to be closer. Therefore, we get\n",
    "an intuition that if we want to use regularization, dealing with rescaled\n",
    "data would make it easier to find an optimal regularization parameter and\n",
    "thus an adequate model.\n",
    "\n",
    "As a side note, some solvers based on gradient computation are expecting such\n",
    "rescaled data. Unscaled data will be detrimental when computing the optimal\n",
    "weights. Therefore, when working with a linear model and numerical data, it\n",
    "is generally good practice to scale the data.\n",
    "\n",
    "Thus, we will add a `StandardScaler` in the machine learning pipeline. This\n",
    "scaler will be placed just before the regressor."
   ]
  },
  {
   "cell_type": "code",
   "execution_count": null,
   "id": "27230acb",
   "metadata": {},
   "outputs": [],
   "source": [
    "from sklearn.preprocessing import StandardScaler\n",
    "\n",
    "ridge = make_pipeline(PolynomialFeatures(degree=2), StandardScaler(),\n",
    "                      Ridge(alpha=0.5))\n",
    "cv_results = cross_validate(ridge, data, target,\n",
    "                            cv=10, scoring=\"neg_mean_squared_error\",\n",
    "                            return_train_score=True,\n",
    "                            return_estimator=True)"
   ]
  },
  {
   "cell_type": "code",
   "execution_count": null,
   "id": "16277ad2",
   "metadata": {},
   "outputs": [],
   "source": [
    "train_error = -cv_results[\"train_score\"]\n",
    "print(f\"Mean squared error of linear regression model on the train set:\\n\"\n",
    "      f\"{train_error.mean():.3f} ± {train_error.std():.3f}\")"
   ]
  },
  {
   "cell_type": "code",
   "execution_count": null,
   "id": "b57c3980",
   "metadata": {},
   "outputs": [],
   "source": [
    "test_error = -cv_results[\"test_score\"]\n",
    "print(f\"Mean squared error of linear regression model on the test set:\\n\"\n",
    "      f\"{test_error.mean():.3f} ± {test_error.std():.3f}\")"
   ]
  },
  {
   "cell_type": "markdown",
   "id": "f3a27380",
   "metadata": {},
   "source": [
    "We observe that scaling data has a positive impact on the test score and that\n",
    "the test score is closer to the train score. It means that our model is less\n",
    "overfitted and that we are getting closer to the best generalization sweet\n",
    "spot.\n",
    "\n",
    "Let's have an additional look to the different weights."
   ]
  },
  {
   "cell_type": "code",
   "execution_count": null,
   "id": "5e34b692",
   "metadata": {},
   "outputs": [],
   "source": [
    "coefs = [est[-1].coef_ for est in cv_results[\"estimator\"]]\n",
    "weights_ridge = pd.DataFrame(coefs, columns=feature_names)"
   ]
  },
  {
   "cell_type": "code",
   "execution_count": null,
   "id": "dd07115d",
   "metadata": {},
   "outputs": [],
   "source": [
    "weights_ridge.plot.box(color=color, vert=False, figsize=(6, 16))\n",
    "_ = plt.title(\"Ridge weights with data scaling\")"
   ]
  },
  {
   "cell_type": "markdown",
   "id": "2fe226de",
   "metadata": {},
   "source": [
    "Compare to the previous plots, we see that now all weight magnitudes are\n",
    "closer and that all features are more equally contributing.\n",
    "\n",
    "In the previous example, we fixed `alpha=0.5`. We will now check the impact\n",
    "of the value of `alpha` by increasing its value."
   ]
  },
  {
   "cell_type": "code",
   "execution_count": null,
   "id": "ff9dd0e3",
   "metadata": {},
   "outputs": [],
   "source": [
    "ridge = make_pipeline(PolynomialFeatures(degree=2), StandardScaler(),\n",
    "                      Ridge(alpha=1_000_000))\n",
    "cv_results = cross_validate(ridge, data, target,\n",
    "                            cv=10, scoring=\"neg_mean_squared_error\",\n",
    "                            return_train_score=True,\n",
    "                            return_estimator=True)"
   ]
  },
  {
   "cell_type": "code",
   "execution_count": null,
   "id": "e13ba84c",
   "metadata": {},
   "outputs": [],
   "source": [
    "coefs = [est[-1].coef_ for est in cv_results[\"estimator\"]]\n",
    "weights_ridge = pd.DataFrame(coefs, columns=feature_names)"
   ]
  },
  {
   "cell_type": "code",
   "execution_count": null,
   "id": "5553352d",
   "metadata": {},
   "outputs": [],
   "source": [
    "weights_ridge.plot.box(color=color, vert=False, figsize=(6, 16))\n",
    "_ = plt.title(\"Ridge weights with data scaling and large alpha\")"
   ]
  },
  {
   "cell_type": "markdown",
   "id": "896acce5",
   "metadata": {},
   "source": [
    "Looking specifically to weights values, we observe that increasing the value\n",
    "of `alpha` will decrease the weight values. A negative value of `alpha` would\n",
    "actually enhance large weights and promote overfitting.\n",
    "\n",
    "<div class=\"admonition note alert alert-info\">\n",
    "<p class=\"first admonition-title\" style=\"font-weight: bold;\">Note</p>\n",
    "<p>Here, we only focus on numerical features. For categorical features, it is\n",
    "generally common to omit scaling when features are encoded with a\n",
    "<tt class=\"docutils literal\">OneHotEncoder</tt> since the feature values are already on a similar scale.</p>\n",
    "<p class=\"last\">However, this choice can be questioned since scaling interacts with\n",
    "regularization as well. For instance, scaling categorical features that are\n",
    "imbalanced (e.g. more occurrences of a specific category) would even out\n",
    "the impact of regularization to each category. However, scaling such features\n",
    "in the presence of rare categories could be problematic (i.e. division by a very\n",
    "small standard deviation) and it can therefore introduce numerical issues.</p>\n",
    "</div>\n",
    "\n",
    "In the previous analysis, we did not study if the parameter `alpha` will have\n",
    "an effect on the performance. We chose the parameter beforehand and fixed it\n",
    "for the analysis.\n",
    "\n",
    "In the next section, we will check the impact of the regularization\n",
    "parameter `alpha` and how it should be tuned.\n",
    "\n",
    "## Fine tuning the regularization parameter\n",
    "\n",
    "As mentioned, the regularization parameter needs to be tuned on each dataset.\n",
    "The default parameter will not lead to the optimal model. Therefore, we need\n",
    "to tune the `alpha` parameter.\n",
    "\n",
    "Model hyperparameter tuning should be done with care. Indeed, we want to\n",
    "find an optimal parameter that maximizes some metrics. Thus, it requires both\n",
    "a training set and testing set.\n",
    "\n",
    "However, this testing set should be different from the out-of-sample testing\n",
    "set that we used to evaluate our model: if we use the same one, we are using\n",
    "an `alpha` which was optimized for this testing set and it breaks the\n",
    "out-of-sample rule.\n",
    "\n",
    "Therefore, we should include search of the hyperparameter `alpha` within the\n",
    "cross-validation. As we saw in previous notebooks, we could use a\n",
    "grid-search. However, some predictor in scikit-learn are available with\n",
    "an integrated hyperparameter search, more efficient than using a grid-search.\n",
    "The name of these predictors finishes by `CV`. In the case of `Ridge`,\n",
    "scikit-learn provides a `RidgeCV` regressor.\n",
    "\n",
    "Therefore, we can use this predictor as the last step of the pipeline.\n",
    "Including the pipeline a cross-validation allows to make a nested\n",
    "cross-validation: the inner cross-validation will search for the best\n",
    "alpha, while the outer cross-validation will give an estimate of the\n",
    "testing score."
   ]
  },
  {
   "cell_type": "code",
   "execution_count": null,
   "id": "32d44e11",
   "metadata": {},
   "outputs": [],
   "source": [
    "import numpy as np\n",
    "from sklearn.linear_model import RidgeCV\n",
    "\n",
    "alphas = np.logspace(-2, 0, num=21)\n",
    "ridge = make_pipeline(PolynomialFeatures(degree=2), StandardScaler(),\n",
    "                      RidgeCV(alphas=alphas, store_cv_values=True))"
   ]
  },
  {
   "cell_type": "code",
   "execution_count": null,
   "id": "9df3caa6",
   "metadata": {},
   "outputs": [],
   "source": [
    "from sklearn.model_selection import ShuffleSplit\n",
    "\n",
    "cv = ShuffleSplit(n_splits=5, random_state=1)\n",
    "cv_results = cross_validate(ridge, data, target,\n",
    "                            cv=cv, scoring=\"neg_mean_squared_error\",\n",
    "                            return_train_score=True,\n",
    "                            return_estimator=True, n_jobs=2)"
   ]
  },
  {
   "cell_type": "code",
   "execution_count": null,
   "id": "4db85ee6",
   "metadata": {},
   "outputs": [],
   "source": [
    "train_error = -cv_results[\"train_score\"]\n",
    "print(f\"Mean squared error of linear regression model on the train set:\\n\"\n",
    "      f\"{train_error.mean():.3f} ± {train_error.std():.3f}\")"
   ]
  },
  {
   "cell_type": "code",
   "execution_count": null,
   "id": "c354e280",
   "metadata": {},
   "outputs": [],
   "source": [
    "test_error = -cv_results[\"test_score\"]\n",
    "print(f\"Mean squared error of linear regression model on the test set:\\n\"\n",
    "      f\"{test_error.mean():.3f} ± {test_error.std():.3f}\")"
   ]
  },
  {
   "cell_type": "markdown",
   "id": "8f3e8254",
   "metadata": {},
   "source": [
    "By optimizing `alpha`, we see that the training and testing scores are close.\n",
    "It indicates that our model is not overfitting.\n",
    "\n",
    "When fitting the ridge regressor, we also requested to store the error found\n",
    "during cross-validation (by setting the parameter `store_cv_values=True`). We\n",
    "will plot the mean squared error for the different `alphas` regularization\n",
    "strength that we tried. The error bars represent one standard deviation of\n",
    "the average mean square error across folds for a given value of `alpha`."
   ]
  },
  {
   "cell_type": "code",
   "execution_count": null,
   "id": "6ba2a503",
   "metadata": {},
   "outputs": [],
   "source": [
    "mse_alphas = [est[-1].cv_values_.mean(axis=0)\n",
    "              for est in cv_results[\"estimator\"]]\n",
    "cv_alphas = pd.DataFrame(mse_alphas, columns=alphas)\n",
    "cv_alphas = cv_alphas.aggregate([\"mean\", \"std\"]).T\n",
    "cv_alphas"
   ]
  },
  {
   "cell_type": "code",
   "execution_count": null,
   "id": "379ada04",
   "metadata": {},
   "outputs": [],
   "source": [
    "plt.errorbar(cv_alphas.index, cv_alphas[\"mean\"],\n",
    "             yerr=cv_alphas[\"std\"])\n",
    "plt.xlim((0.0, 1.0))\n",
    "plt.ylim((4_500, 11_000))\n",
    "plt.ylabel(\"Mean squared error\\n (lower is better)\")\n",
    "plt.xlabel(\"alpha\")\n",
    "_ = plt.title(\"Testing error obtained by cross-validation\")"
   ]
  },
  {
   "cell_type": "markdown",
   "id": "4b989773",
   "metadata": {},
   "source": [
    "As we can see, regularization is just like salt in cooking: one must balance\n",
    "its amount to get the best generalization performance. We can check if the best\n",
    "`alpha` found is stable across the cross-validation fold."
   ]
  },
  {
   "cell_type": "code",
   "execution_count": null,
   "id": "85b15f75",
   "metadata": {},
   "outputs": [],
   "source": [
    "best_alphas = [est[-1].alpha_ for est in cv_results[\"estimator\"]]\n",
    "best_alphas"
   ]
  },
  {
   "cell_type": "markdown",
   "id": "b413871d",
   "metadata": {},
   "source": [
    "The optimal regularization strength is not necessarily the same on all\n",
    "cross-validation iterations. But since we expect each cross-validation\n",
    "resampling to stem from the same data distribution, it is common practice\n",
    "to choose the best `alpha` to put into production as lying in the range\n",
    "defined by:"
   ]
  },
  {
   "cell_type": "code",
   "execution_count": null,
   "id": "ac4e89d8",
   "metadata": {},
   "outputs": [],
   "source": [
    "print(f\"Min optimal alpha: {np.min(best_alphas):.2f} and \"\n",
    "      f\"Max optimal alpha: {np.max(best_alphas):.2f}\")"
   ]
  },
  {
   "cell_type": "markdown",
   "id": "4a3faa3e",
   "metadata": {},
   "source": [
    "This range can be reduced by decreasing the spacing between the grid of\n",
    "`alphas`.\n",
    "\n",
    "In this notebook, you learned about the concept of regularization and\n",
    "the importance of preprocessing and parameter tuning."
   ]
  }
 ],
 "metadata": {
  "jupytext": {
   "main_language": "python"
  },
  "kernelspec": {
   "display_name": "Python 3 (ipykernel)",
   "language": "python",
   "name": "python3"
  },
  "language_info": {
   "codemirror_mode": {
    "name": "ipython",
    "version": 3
   },
   "file_extension": ".py",
   "mimetype": "text/x-python",
   "name": "python",
   "nbconvert_exporter": "python",
   "pygments_lexer": "ipython3",
   "version": "3.9.7"
  }
 },
 "nbformat": 4,
 "nbformat_minor": 5
}
