{
 "cells": [
  {
   "cell_type": "markdown",
   "id": "4179708a-2c79-4252-bd78-96982cb9b167",
   "metadata": {},
   "source": [
    "# Main take-away\n",
    "\n",
    "\n",
    "In this module, we presented decision trees in details. We saw that they:\n",
    "\n",
    "- are suited for both regression and classification problems;\n",
    "\n",
    "- are non-parametric models;\n",
    "\n",
    "- are not able to extrapolate;\n",
    "\n",
    "- are sensitive to hyperparameter tuning."
   ]
  },
  {
   "cell_type": "code",
   "execution_count": null,
   "id": "7e194022-f995-44e0-b425-8693a15a3332",
   "metadata": {},
   "outputs": [],
   "source": []
  }
 ],
 "metadata": {
  "kernelspec": {
   "display_name": "msc_ts_istec",
   "language": "python",
   "name": "msc_ts_istec"
  },
  "language_info": {
   "codemirror_mode": {
    "name": "ipython",
    "version": 3
   },
   "file_extension": ".py",
   "mimetype": "text/x-python",
   "name": "python",
   "nbconvert_exporter": "python",
   "pygments_lexer": "ipython3",
   "version": "3.9.16"
  }
 },
 "nbformat": 4,
 "nbformat_minor": 5
}
