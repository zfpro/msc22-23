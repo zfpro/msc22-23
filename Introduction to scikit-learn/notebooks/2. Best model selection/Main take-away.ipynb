{
 "cells": [
  {
   "cell_type": "markdown",
   "id": "2c549b49-ebe8-4002-b078-6983c15d5c32",
   "metadata": {},
   "source": [
    "# Main take-away\n",
    "## Wrap-up\n",
    "Overfitting is caused by the limited size of the training set, the noise in the data, and the high flexibility of common machine learning models.\n",
    "\n",
    "Underfitting happens when the learnt prediction functions suffer from systematic errors. This can be caused by a choice of model family and parameters, which leads to a lack of flexibility to capture the repeatable structure of the true data generating process.\n",
    "\n",
    "For a fixed training set, the objective is to minimize the test error by adjusting the model family and its parameters to find the best trade-off between overfitting for underfitting.\n",
    "\n",
    "For a given choice of model family and parameters, increasing the training set size will decrease overfitting but can also cause an increase of underfitting.\n",
    "\n",
    "The test error of a model that is neither overfitting nor underfitting can still be high if the variations of the target variable cannot be fully determined by the input features. This irreducible error is caused by what we sometimes call label noise. In practice, this often happens when we do not have access to important features for one reason or another.\n",
    "\n",
    "To go further\n",
    "It is possible to give a precise mathematical treatment of the bias and the variance of a regression model. The Wikipedia article on the Bias-variance tradeoff explains how the squared test error can be decomposed as the sum of the squared bias, the variance and the irreducible error for a given regression error.\n",
    "\n",
    "The next chapters on linear models, decision trees and ensembles will give concrete examples on how to diagnose and how to tackle overfitting and underfitting.\n",
    "\n",
    "You can refer to the following scikit-learn examples which are related to the concepts approached during this module:\n",
    "\n",
    "[Illustration of underfitting and overfitting concepts](https://scikit-learn.org/stable/auto_examples/model_selection/plot_underfitting_overfitting.html#sphx-glr-auto-examples-model-selection-plot-underfitting-overfitting-py)\n",
    "\n",
    "[Difference between train and test scores](https://scikit-learn.org/stable/auto_examples/model_selection/plot_train_error_vs_test_error.html#sphx-glr-auto-examples-model-selection-plot-train-error-vs-test-error-py)\n",
    "\n",
    "[Example of a validation curve](https://scikit-learn.org/stable/auto_examples/model_selection/plot_validation_curve.html#sphx-glr-auto-examples-model-selection-plot-validation-curve-py)\n",
    "\n"
   ]
  },
  {
   "cell_type": "code",
   "execution_count": null,
   "id": "132d675a-e794-45ac-832f-d85a25c2552d",
   "metadata": {},
   "outputs": [],
   "source": []
  }
 ],
 "metadata": {
  "kernelspec": {
   "display_name": "msc_ts_istec",
   "language": "python",
   "name": "msc_ts_istec"
  },
  "language_info": {
   "codemirror_mode": {
    "name": "ipython",
    "version": 3
   },
   "file_extension": ".py",
   "mimetype": "text/x-python",
   "name": "python",
   "nbconvert_exporter": "python",
   "pygments_lexer": "ipython3",
   "version": "3.9.16"
  }
 },
 "nbformat": 4,
 "nbformat_minor": 5
}
