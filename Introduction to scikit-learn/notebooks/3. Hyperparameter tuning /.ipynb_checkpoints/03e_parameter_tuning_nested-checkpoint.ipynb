{
 "cells": [
  {
   "cell_type": "markdown",
   "id": "09e33f51",
   "metadata": {},
   "source": [
    "# Evaluation and hyperparameter tuning\n",
    "\n",
    "In the previous notebook, we saw two approaches to tune hyperparameters.\n",
    "However, we did not present a proper framework to evaluate the tuned models.\n",
    "Instead, we focused on the mechanism used to find the best set of parameters.\n",
    "\n",
    "In this notebook, we will reuse some knowledge presented in the module\n",
    "\"Selecting the best model\" to show how to evaluate models where\n",
    "hyperparameters need to be tuned.\n",
    "\n",
    "Thus, we will first load the dataset and create the predictive model that\n",
    "we want to optimize and later on, evaluate.\n",
    "\n",
    "## Loading the dataset\n",
    "\n",
    "As in the previous notebook, we load the Adult census dataset. The loaded\n",
    "dataframe is first divided to separate the input features and the target into\n",
    "two separated variables. In addition, we drop the column `\"education-num\"` as\n",
    "previously done."
   ]
  },
  {
   "cell_type": "code",
   "execution_count": 1,
   "id": "4701873a",
   "metadata": {},
   "outputs": [],
   "source": [
    "import pandas as pd\n",
    "\n",
    "target_name = \"class\"\n",
    "adult_census = pd.read_csv(\"../../datasets/adult-census.csv\")\n",
    "target = adult_census[target_name]\n",
    "data = adult_census.drop(columns=[target_name, \"education-num\"])"
   ]
  },
  {
   "cell_type": "markdown",
   "id": "016c231a",
   "metadata": {},
   "source": [
    "## Our predictive model\n",
    "\n",
    "We now create the predictive model that we want to optimize. Note that\n",
    "this pipeline is identical to the one we used in the previous notebook."
   ]
  },
  {
   "cell_type": "code",
   "execution_count": 2,
   "id": "68434e0b",
   "metadata": {},
   "outputs": [],
   "source": [
    "from sklearn.compose import ColumnTransformer\n",
    "from sklearn.preprocessing import OrdinalEncoder\n",
    "from sklearn.compose import make_column_selector as selector\n",
    "\n",
    "categorical_columns_selector = selector(dtype_include=object)\n",
    "categorical_columns = categorical_columns_selector(data)\n",
    "\n",
    "categorical_preprocessor = OrdinalEncoder(\n",
    "    handle_unknown=\"use_encoded_value\", unknown_value=-1\n",
    ")\n",
    "preprocessor = ColumnTransformer(\n",
    "    [\n",
    "        ('cat_preprocessor', categorical_preprocessor, categorical_columns),\n",
    "    ],\n",
    "    remainder='passthrough',\n",
    "    sparse_threshold=0,\n",
    ")"
   ]
  },
  {
   "cell_type": "code",
   "execution_count": 3,
   "id": "4b434ef9",
   "metadata": {},
   "outputs": [
    {
     "data": {
      "text/html": [
       "<style>#sk-container-id-1 {color: black;background-color: white;}#sk-container-id-1 pre{padding: 0;}#sk-container-id-1 div.sk-toggleable {background-color: white;}#sk-container-id-1 label.sk-toggleable__label {cursor: pointer;display: block;width: 100%;margin-bottom: 0;padding: 0.3em;box-sizing: border-box;text-align: center;}#sk-container-id-1 label.sk-toggleable__label-arrow:before {content: \"▸\";float: left;margin-right: 0.25em;color: #696969;}#sk-container-id-1 label.sk-toggleable__label-arrow:hover:before {color: black;}#sk-container-id-1 div.sk-estimator:hover label.sk-toggleable__label-arrow:before {color: black;}#sk-container-id-1 div.sk-toggleable__content {max-height: 0;max-width: 0;overflow: hidden;text-align: left;background-color: #f0f8ff;}#sk-container-id-1 div.sk-toggleable__content pre {margin: 0.2em;color: black;border-radius: 0.25em;background-color: #f0f8ff;}#sk-container-id-1 input.sk-toggleable__control:checked~div.sk-toggleable__content {max-height: 200px;max-width: 100%;overflow: auto;}#sk-container-id-1 input.sk-toggleable__control:checked~label.sk-toggleable__label-arrow:before {content: \"▾\";}#sk-container-id-1 div.sk-estimator input.sk-toggleable__control:checked~label.sk-toggleable__label {background-color: #d4ebff;}#sk-container-id-1 div.sk-label input.sk-toggleable__control:checked~label.sk-toggleable__label {background-color: #d4ebff;}#sk-container-id-1 input.sk-hidden--visually {border: 0;clip: rect(1px 1px 1px 1px);clip: rect(1px, 1px, 1px, 1px);height: 1px;margin: -1px;overflow: hidden;padding: 0;position: absolute;width: 1px;}#sk-container-id-1 div.sk-estimator {font-family: monospace;background-color: #f0f8ff;border: 1px dotted black;border-radius: 0.25em;box-sizing: border-box;margin-bottom: 0.5em;}#sk-container-id-1 div.sk-estimator:hover {background-color: #d4ebff;}#sk-container-id-1 div.sk-parallel-item::after {content: \"\";width: 100%;border-bottom: 1px solid gray;flex-grow: 1;}#sk-container-id-1 div.sk-label:hover label.sk-toggleable__label {background-color: #d4ebff;}#sk-container-id-1 div.sk-serial::before {content: \"\";position: absolute;border-left: 1px solid gray;box-sizing: border-box;top: 0;bottom: 0;left: 50%;z-index: 0;}#sk-container-id-1 div.sk-serial {display: flex;flex-direction: column;align-items: center;background-color: white;padding-right: 0.2em;padding-left: 0.2em;position: relative;}#sk-container-id-1 div.sk-item {position: relative;z-index: 1;}#sk-container-id-1 div.sk-parallel {display: flex;align-items: stretch;justify-content: center;background-color: white;position: relative;}#sk-container-id-1 div.sk-item::before, #sk-container-id-1 div.sk-parallel-item::before {content: \"\";position: absolute;border-left: 1px solid gray;box-sizing: border-box;top: 0;bottom: 0;left: 50%;z-index: -1;}#sk-container-id-1 div.sk-parallel-item {display: flex;flex-direction: column;z-index: 1;position: relative;background-color: white;}#sk-container-id-1 div.sk-parallel-item:first-child::after {align-self: flex-end;width: 50%;}#sk-container-id-1 div.sk-parallel-item:last-child::after {align-self: flex-start;width: 50%;}#sk-container-id-1 div.sk-parallel-item:only-child::after {width: 0;}#sk-container-id-1 div.sk-dashed-wrapped {border: 1px dashed gray;margin: 0 0.4em 0.5em 0.4em;box-sizing: border-box;padding-bottom: 0.4em;background-color: white;}#sk-container-id-1 div.sk-label label {font-family: monospace;font-weight: bold;display: inline-block;line-height: 1.2em;}#sk-container-id-1 div.sk-label-container {text-align: center;}#sk-container-id-1 div.sk-container {/* jupyter's `normalize.less` sets `[hidden] { display: none; }` but bootstrap.min.css set `[hidden] { display: none !important; }` so we also need the `!important` here to be able to override the default hidden behavior on the sphinx rendered scikit-learn.org. See: https://github.com/scikit-learn/scikit-learn/issues/21755 */display: inline-block !important;position: relative;}#sk-container-id-1 div.sk-text-repr-fallback {display: none;}</style><div id=\"sk-container-id-1\" class=\"sk-top-container\"><div class=\"sk-text-repr-fallback\"><pre>Pipeline(steps=[(&#x27;preprocessor&#x27;,\n",
       "                 ColumnTransformer(remainder=&#x27;passthrough&#x27;, sparse_threshold=0,\n",
       "                                   transformers=[(&#x27;cat_preprocessor&#x27;,\n",
       "                                                  OrdinalEncoder(handle_unknown=&#x27;use_encoded_value&#x27;,\n",
       "                                                                 unknown_value=-1),\n",
       "                                                  [&#x27;workclass&#x27;, &#x27;education&#x27;,\n",
       "                                                   &#x27;marital-status&#x27;,\n",
       "                                                   &#x27;occupation&#x27;, &#x27;relationship&#x27;,\n",
       "                                                   &#x27;race&#x27;, &#x27;sex&#x27;,\n",
       "                                                   &#x27;native-country&#x27;])])),\n",
       "                (&#x27;classifier&#x27;,\n",
       "                 HistGradientBoostingClassifier(max_leaf_nodes=4,\n",
       "                                                random_state=42))])</pre><b>In a Jupyter environment, please rerun this cell to show the HTML representation or trust the notebook. <br />On GitHub, the HTML representation is unable to render, please try loading this page with nbviewer.org.</b></div><div class=\"sk-container\" hidden><div class=\"sk-item sk-dashed-wrapped\"><div class=\"sk-label-container\"><div class=\"sk-label sk-toggleable\"><input class=\"sk-toggleable__control sk-hidden--visually\" id=\"sk-estimator-id-1\" type=\"checkbox\" ><label for=\"sk-estimator-id-1\" class=\"sk-toggleable__label sk-toggleable__label-arrow\">Pipeline</label><div class=\"sk-toggleable__content\"><pre>Pipeline(steps=[(&#x27;preprocessor&#x27;,\n",
       "                 ColumnTransformer(remainder=&#x27;passthrough&#x27;, sparse_threshold=0,\n",
       "                                   transformers=[(&#x27;cat_preprocessor&#x27;,\n",
       "                                                  OrdinalEncoder(handle_unknown=&#x27;use_encoded_value&#x27;,\n",
       "                                                                 unknown_value=-1),\n",
       "                                                  [&#x27;workclass&#x27;, &#x27;education&#x27;,\n",
       "                                                   &#x27;marital-status&#x27;,\n",
       "                                                   &#x27;occupation&#x27;, &#x27;relationship&#x27;,\n",
       "                                                   &#x27;race&#x27;, &#x27;sex&#x27;,\n",
       "                                                   &#x27;native-country&#x27;])])),\n",
       "                (&#x27;classifier&#x27;,\n",
       "                 HistGradientBoostingClassifier(max_leaf_nodes=4,\n",
       "                                                random_state=42))])</pre></div></div></div><div class=\"sk-serial\"><div class=\"sk-item sk-dashed-wrapped\"><div class=\"sk-label-container\"><div class=\"sk-label sk-toggleable\"><input class=\"sk-toggleable__control sk-hidden--visually\" id=\"sk-estimator-id-2\" type=\"checkbox\" ><label for=\"sk-estimator-id-2\" class=\"sk-toggleable__label sk-toggleable__label-arrow\">preprocessor: ColumnTransformer</label><div class=\"sk-toggleable__content\"><pre>ColumnTransformer(remainder=&#x27;passthrough&#x27;, sparse_threshold=0,\n",
       "                  transformers=[(&#x27;cat_preprocessor&#x27;,\n",
       "                                 OrdinalEncoder(handle_unknown=&#x27;use_encoded_value&#x27;,\n",
       "                                                unknown_value=-1),\n",
       "                                 [&#x27;workclass&#x27;, &#x27;education&#x27;, &#x27;marital-status&#x27;,\n",
       "                                  &#x27;occupation&#x27;, &#x27;relationship&#x27;, &#x27;race&#x27;, &#x27;sex&#x27;,\n",
       "                                  &#x27;native-country&#x27;])])</pre></div></div></div><div class=\"sk-parallel\"><div class=\"sk-parallel-item\"><div class=\"sk-item\"><div class=\"sk-label-container\"><div class=\"sk-label sk-toggleable\"><input class=\"sk-toggleable__control sk-hidden--visually\" id=\"sk-estimator-id-3\" type=\"checkbox\" ><label for=\"sk-estimator-id-3\" class=\"sk-toggleable__label sk-toggleable__label-arrow\">cat_preprocessor</label><div class=\"sk-toggleable__content\"><pre>[&#x27;workclass&#x27;, &#x27;education&#x27;, &#x27;marital-status&#x27;, &#x27;occupation&#x27;, &#x27;relationship&#x27;, &#x27;race&#x27;, &#x27;sex&#x27;, &#x27;native-country&#x27;]</pre></div></div></div><div class=\"sk-serial\"><div class=\"sk-item\"><div class=\"sk-estimator sk-toggleable\"><input class=\"sk-toggleable__control sk-hidden--visually\" id=\"sk-estimator-id-4\" type=\"checkbox\" ><label for=\"sk-estimator-id-4\" class=\"sk-toggleable__label sk-toggleable__label-arrow\">OrdinalEncoder</label><div class=\"sk-toggleable__content\"><pre>OrdinalEncoder(handle_unknown=&#x27;use_encoded_value&#x27;, unknown_value=-1)</pre></div></div></div></div></div></div><div class=\"sk-parallel-item\"><div class=\"sk-item\"><div class=\"sk-label-container\"><div class=\"sk-label sk-toggleable\"><input class=\"sk-toggleable__control sk-hidden--visually\" id=\"sk-estimator-id-5\" type=\"checkbox\" ><label for=\"sk-estimator-id-5\" class=\"sk-toggleable__label sk-toggleable__label-arrow\">remainder</label><div class=\"sk-toggleable__content\"><pre></pre></div></div></div><div class=\"sk-serial\"><div class=\"sk-item\"><div class=\"sk-estimator sk-toggleable\"><input class=\"sk-toggleable__control sk-hidden--visually\" id=\"sk-estimator-id-6\" type=\"checkbox\" ><label for=\"sk-estimator-id-6\" class=\"sk-toggleable__label sk-toggleable__label-arrow\">passthrough</label><div class=\"sk-toggleable__content\"><pre>passthrough</pre></div></div></div></div></div></div></div></div><div class=\"sk-item\"><div class=\"sk-estimator sk-toggleable\"><input class=\"sk-toggleable__control sk-hidden--visually\" id=\"sk-estimator-id-7\" type=\"checkbox\" ><label for=\"sk-estimator-id-7\" class=\"sk-toggleable__label sk-toggleable__label-arrow\">HistGradientBoostingClassifier</label><div class=\"sk-toggleable__content\"><pre>HistGradientBoostingClassifier(max_leaf_nodes=4, random_state=42)</pre></div></div></div></div></div></div></div>"
      ],
      "text/plain": [
       "Pipeline(steps=[('preprocessor',\n",
       "                 ColumnTransformer(remainder='passthrough', sparse_threshold=0,\n",
       "                                   transformers=[('cat_preprocessor',\n",
       "                                                  OrdinalEncoder(handle_unknown='use_encoded_value',\n",
       "                                                                 unknown_value=-1),\n",
       "                                                  ['workclass', 'education',\n",
       "                                                   'marital-status',\n",
       "                                                   'occupation', 'relationship',\n",
       "                                                   'race', 'sex',\n",
       "                                                   'native-country'])])),\n",
       "                ('classifier',\n",
       "                 HistGradientBoostingClassifier(max_leaf_nodes=4,\n",
       "                                                random_state=42))])"
      ]
     },
     "execution_count": 3,
     "metadata": {},
     "output_type": "execute_result"
    }
   ],
   "source": [
    "from sklearn.ensemble import HistGradientBoostingClassifier\n",
    "from sklearn.pipeline import Pipeline\n",
    "\n",
    "model = Pipeline([\n",
    "    (\"preprocessor\", preprocessor),\n",
    "    (\n",
    "        \"classifier\",\n",
    "        HistGradientBoostingClassifier(\n",
    "            random_state=42, max_leaf_nodes=4\n",
    "        )\n",
    "    ),\n",
    "])\n",
    "model"
   ]
  },
  {
   "cell_type": "markdown",
   "id": "e35dadd7",
   "metadata": {},
   "source": [
    "## Evaluation\n",
    "\n",
    "### Without hyperparameter tuning\n",
    "\n",
    "In the module \"Selecting the best model\", we saw that one must use\n",
    "cross-validation to evaluate such a model. Cross-validation allows to get a\n",
    "distribution of the scores of the model. Thus, having this distribution at\n",
    "hand, we can get to assess the variability of our estimate of the\n",
    "generalization performance of the model. Here, we recall the necessary\n",
    "`scikit-learn` tools needed to obtain the mean and standard deviation of the\n",
    "scores."
   ]
  },
  {
   "cell_type": "code",
   "execution_count": 4,
   "id": "de9bc4ff",
   "metadata": {},
   "outputs": [
    {
     "data": {
      "text/html": [
       "<div>\n",
       "<style scoped>\n",
       "    .dataframe tbody tr th:only-of-type {\n",
       "        vertical-align: middle;\n",
       "    }\n",
       "\n",
       "    .dataframe tbody tr th {\n",
       "        vertical-align: top;\n",
       "    }\n",
       "\n",
       "    .dataframe thead th {\n",
       "        text-align: right;\n",
       "    }\n",
       "</style>\n",
       "<table border=\"1\" class=\"dataframe\">\n",
       "  <thead>\n",
       "    <tr style=\"text-align: right;\">\n",
       "      <th></th>\n",
       "      <th>fit_time</th>\n",
       "      <th>score_time</th>\n",
       "      <th>test_score</th>\n",
       "    </tr>\n",
       "  </thead>\n",
       "  <tbody>\n",
       "    <tr>\n",
       "      <th>0</th>\n",
       "      <td>1.067684</td>\n",
       "      <td>0.143180</td>\n",
       "      <td>0.863241</td>\n",
       "    </tr>\n",
       "    <tr>\n",
       "      <th>1</th>\n",
       "      <td>1.683629</td>\n",
       "      <td>0.136815</td>\n",
       "      <td>0.860784</td>\n",
       "    </tr>\n",
       "    <tr>\n",
       "      <th>2</th>\n",
       "      <td>1.441401</td>\n",
       "      <td>0.114724</td>\n",
       "      <td>0.860360</td>\n",
       "    </tr>\n",
       "    <tr>\n",
       "      <th>3</th>\n",
       "      <td>1.094637</td>\n",
       "      <td>0.141371</td>\n",
       "      <td>0.862408</td>\n",
       "    </tr>\n",
       "    <tr>\n",
       "      <th>4</th>\n",
       "      <td>1.180174</td>\n",
       "      <td>0.154776</td>\n",
       "      <td>0.866912</td>\n",
       "    </tr>\n",
       "  </tbody>\n",
       "</table>\n",
       "</div>"
      ],
      "text/plain": [
       "   fit_time  score_time  test_score\n",
       "0  1.067684    0.143180    0.863241\n",
       "1  1.683629    0.136815    0.860784\n",
       "2  1.441401    0.114724    0.860360\n",
       "3  1.094637    0.141371    0.862408\n",
       "4  1.180174    0.154776    0.866912"
      ]
     },
     "execution_count": 4,
     "metadata": {},
     "output_type": "execute_result"
    }
   ],
   "source": [
    "from sklearn.model_selection import cross_validate\n",
    "\n",
    "cv_results = cross_validate(model, data, target, cv=5)\n",
    "cv_results = pd.DataFrame(cv_results)\n",
    "cv_results"
   ]
  },
  {
   "cell_type": "markdown",
   "id": "0d99a2df",
   "metadata": {},
   "source": [
    "The cross-validation scores are coming from a 5-fold cross-validation. So\n",
    "we can compute the mean and standard deviation of the generalization score."
   ]
  },
  {
   "cell_type": "code",
   "execution_count": 5,
   "id": "9803b326",
   "metadata": {},
   "outputs": [
    {
     "name": "stdout",
     "output_type": "stream",
     "text": [
      "Generalization score without hyperparameters tuning:\n",
      "0.863 ± 0.003\n"
     ]
    }
   ],
   "source": [
    "print(\n",
    "    \"Generalization score without hyperparameters tuning:\\n\"\n",
    "    f\"{cv_results['test_score'].mean():.3f} ± {cv_results['test_score'].std():.3f}\"\n",
    ")"
   ]
  },
  {
   "cell_type": "markdown",
   "id": "f1631afd",
   "metadata": {},
   "source": [
    "We now present how to evaluate the model with hyperparameter tuning,\n",
    "where an extra step is required to select the best set of parameters.\n",
    "\n",
    "### With hyperparameter tuning\n",
    "\n",
    "As shown in the previous notebook, one can use a search strategy that uses\n",
    "cross-validation to find the best set of parameters. Here, we will use a\n",
    "grid-search strategy and reproduce the steps done in the previous notebook.\n",
    "\n",
    "First, we have to embed our model into a grid-search and specify the\n",
    "parameters and the parameter values that we want to explore."
   ]
  },
  {
   "cell_type": "code",
   "execution_count": null,
   "id": "648d0e5c",
   "metadata": {},
   "outputs": [],
   "source": [
    "from sklearn.model_selection import GridSearchCV\n",
    "\n",
    "param_grid = {\n",
    "    'classifier__learning_rate': (0.05, 0.5),\n",
    "    'classifier__max_leaf_nodes': (10, 30),\n",
    "}\n",
    "model_grid_search = GridSearchCV(\n",
    "    model, param_grid=param_grid, n_jobs=2, cv=2\n",
    ")\n",
    "model_grid_search.fit(data, target)"
   ]
  },
  {
   "cell_type": "markdown",
   "id": "1c05338c",
   "metadata": {},
   "source": [
    "As previously seen, when calling the `fit` method, the model embedded in the\n",
    "grid-search is trained with every possible combination of parameters\n",
    "resulting from the parameter grid. The best combination is selected by\n",
    "keeping the combination leading to the best mean cross-validated score."
   ]
  },
  {
   "cell_type": "code",
   "execution_count": null,
   "id": "1144e8ec",
   "metadata": {},
   "outputs": [],
   "source": [
    "cv_results = pd.DataFrame(model_grid_search.cv_results_)\n",
    "cv_results[[\n",
    "    \"param_classifier__learning_rate\",\n",
    "    \"param_classifier__max_leaf_nodes\",\n",
    "    \"mean_test_score\",\n",
    "    \"std_test_score\",\n",
    "    \"rank_test_score\"\n",
    "]]"
   ]
  },
  {
   "cell_type": "code",
   "execution_count": null,
   "id": "49eba8e6",
   "metadata": {},
   "outputs": [],
   "source": [
    "model_grid_search.best_params_"
   ]
  },
  {
   "cell_type": "markdown",
   "id": "c326ef00",
   "metadata": {},
   "source": [
    "One important caveat here concerns the evaluation of the generalization\n",
    "performance. Indeed, the mean and standard deviation of the scores computed\n",
    "by the cross-validation in the grid-search are potentially not good estimates\n",
    "of the generalization performance we would obtain by refitting a model with\n",
    "the best combination of hyper-parameter values on the full dataset. Note that\n",
    "scikit-learn automatically performs this refit by default when calling\n",
    "`model_grid_search.fit`. This refitted model is trained with more data than\n",
    "the different models trained internally during the cross-validation of the\n",
    "grid-search.\n",
    "\n",
    "We therefore used knowledge from the full dataset to both decide our model’s\n",
    "hyper-parameters and to train the refitted model.\n",
    "\n",
    "Because of the above, one must keep an external, held-out test set for the\n",
    "final evaluation of the refitted model. We highlight here the process using a\n",
    "single train-test split."
   ]
  },
  {
   "cell_type": "code",
   "execution_count": null,
   "id": "0eb140de",
   "metadata": {},
   "outputs": [],
   "source": [
    "from sklearn.model_selection import train_test_split\n",
    "\n",
    "data_train, data_test, target_train, target_test = train_test_split(\n",
    "    data, target, test_size=0.2, random_state=42\n",
    ")\n",
    "\n",
    "model_grid_search.fit(data_train, target_train)\n",
    "accuracy = model_grid_search.score(data_test, target_test)\n",
    "print(f\"Accuracy on test set: {accuracy:.3f}\")"
   ]
  },
  {
   "cell_type": "markdown",
   "id": "98fdf415",
   "metadata": {},
   "source": [
    "The score measure on the final test set is almost within the range of the\n",
    "internal CV score for the best hyper-parameter combination. This is reassuring\n",
    "as it means that the tuning procedure did not cause significant overfitting\n",
    "in itself (other-wise the final test score would have been lower than the\n",
    "internal CV scores). That is expected because our grid search explored very\n",
    "few hyper-parameter combinations for the sake of speed. The test score of the\n",
    "final model is actually a bit higher than what we could have expected from\n",
    "the internal cross-validation. This is also expected because the refitted\n",
    "model is trained on a larger dataset than the models evaluated in the\n",
    "internal CV loop of the grid-search procedure. This is often the case that\n",
    "models trained on a larger number of samples tend to generalize better.\n",
    "\n",
    "In the code above, the selection of the best hyperparameters was done only on\n",
    "the train set from the initial train-test split. Then, we evaluated the\n",
    "generalization performance of our tuned model on the left out test set. This\n",
    "can be shown schematically as follows\n",
    "\n",
    "![Cross-validation tuning diagram](../figures/cross_validation_train_test_diagram.png)\n",
    "\n",
    "<div class=\"admonition note alert alert-info\">\n",
    "<p class=\"first admonition-title\" style=\"font-weight: bold;\">Note</p>\n",
    "<p>This figure shows the particular case of <strong>K-fold</strong> cross-validation\n",
    "strategy using <tt class=\"docutils literal\">n_splits=5</tt> to further split the train set coming from a\n",
    "train-test split.\n",
    "For each cross-validation split, the procedure trains a model on all the red\n",
    "samples, evaluates the score of a given set of hyperparameters on the green\n",
    "samples. The best hyper-parameters are selected based on those intermediate\n",
    "scores.</p>\n",
    "<p>Then a final model tuned with those hyper-parameters is fitted on the\n",
    "concatenation of the red and green samples and evaluated on the blue samples.</p>\n",
    "<p class=\"last\">The green samples are sometimes called a <strong>validation sets</strong> to differentiate\n",
    "them from the final test set in blue.</p>\n",
    "</div>\n",
    "\n",
    "However, this evaluation only provides us a single point estimate of the\n",
    "generalization performance. As recall at the beginning of this notebook, it\n",
    "is beneficial to have a rough idea of the uncertainty of our estimated\n",
    "generalization performance. Therefore, we should instead use an additional\n",
    "cross-validation for this evaluation.\n",
    "\n",
    "This pattern is called **nested cross-validation**. We use an inner\n",
    "cross-validation for the selection of the hyperparameters and an outer\n",
    "cross-validation for the evaluation of generalization performance of the\n",
    "refitted tuned model.\n",
    "\n",
    "In practice, we only need to embed the grid-search in the function\n",
    "`cross_validate` to perform such evaluation."
   ]
  },
  {
   "cell_type": "code",
   "execution_count": null,
   "id": "d65dd2b4",
   "metadata": {},
   "outputs": [],
   "source": [
    "cv_results = cross_validate(\n",
    "    model_grid_search, data, target, cv=5, n_jobs=2, return_estimator=True\n",
    ")"
   ]
  },
  {
   "cell_type": "code",
   "execution_count": null,
   "id": "b80a0d91",
   "metadata": {},
   "outputs": [],
   "source": [
    "cv_results = pd.DataFrame(cv_results)\n",
    "cv_test_scores = cv_results['test_score']\n",
    "print(\n",
    "    \"Generalization score with hyperparameters tuning:\\n\"\n",
    "    f\"{cv_test_scores.mean():.3f} ± {cv_test_scores.std():.3f}\"\n",
    ")"
   ]
  },
  {
   "cell_type": "markdown",
   "id": "f04e44d3",
   "metadata": {},
   "source": [
    "This result is compatible with the test score measured with the string outer\n",
    "train-test split.\n",
    "\n",
    "However, in this case, we can apprehend the variability of our estimate of\n",
    "the generalization performance thanks to the measure of the\n",
    "standard-deviation of the scores measured in the outer cross-validation.\n",
    "\n",
    "Here is a schematic representation of the complete nested cross-validation\n",
    "procedure:\n",
    "\n",
    "![Nested cross-validation\n",
    "diagram](../figures/nested_cross_validation_diagram.png)\n",
    "\n",
    "<div class=\"admonition note alert alert-info\">\n",
    "<p class=\"first admonition-title\" style=\"font-weight: bold;\">Note</p>\n",
    "<p>This figure illustrates the nested cross-validation strategy using\n",
    "<tt class=\"docutils literal\">cv_inner = KFold(n_splits=4)</tt> and <tt class=\"docutils literal\">cv_outer = KFold(n_splits=5)</tt>.</p>\n",
    "<p>For each inner cross-validation split (indexed on the left-hand side),\n",
    "the procedure trains a model on all the red samples and evaluate the quality\n",
    "of the hyperparameters on the green samples.</p>\n",
    "<p>For each outer cross-validation split (indexed on the right-hand side),\n",
    "the best hyper-parameters are selected based on the validation scores\n",
    "(computed on the greed samples) and a model is refitted on the concatenation\n",
    "of the red and green samples for that outer CV iteration.</p>\n",
    "<p class=\"last\">The generalization performance of the 5 refitted models from the outer CV\n",
    "loop are then evaluated on the blue samples to get the final scores.</p>\n",
    "</div>\n",
    "\n",
    "In addition, passing the parameter `return_estimator=True`, we can check the\n",
    "value of the best hyperparameters obtained for each fold of the outer\n",
    "cross-validation."
   ]
  },
  {
   "cell_type": "code",
   "execution_count": null,
   "id": "970ee650",
   "metadata": {},
   "outputs": [],
   "source": [
    "for cv_fold, estimator_in_fold in enumerate(cv_results[\"estimator\"]):\n",
    "    print(\n",
    "        f\"Best hyperparameters for fold #{cv_fold + 1}:\\n\"\n",
    "        f\"{estimator_in_fold.best_params_}\"\n",
    "    )"
   ]
  },
  {
   "cell_type": "markdown",
   "id": "40733240",
   "metadata": {},
   "source": [
    "It is interesting to see whether the hyper-parameter tuning procedure always\n",
    "select similar values for the hyperparameters. If it is the case, then all is\n",
    "fine. It means that we can deploy a model fit with those hyperparameters and\n",
    "expect that it will have an actual predictive performance close to what we\n",
    "measured in the outer cross-validation.\n",
    "\n",
    "But it is also possible that some hyperparameters do not matter at all, and\n",
    "as a result in different tuning sessions give different results. In this\n",
    "case, any value will do. This can typically be confirmed by doing a parallel\n",
    "coordinate plot of the results of a large hyperparameter search as seen in\n",
    "the exercises.\n",
    "\n",
    "From a deployment point of view, one could also choose to deploy all the\n",
    "models found by the outer cross-validation loop and make them vote to get the\n",
    "final predictions. However this can cause operational problems because it\n",
    "uses more memory and makes computing prediction slower, resulting in a higher\n",
    "computational resource usage per prediction.\n",
    "\n",
    "In this notebook, we have seen how to evaluate the predictive performance of\n",
    "a model with tuned hyper-parameters using the nested cross-validation\n",
    "procedure."
   ]
  }
 ],
 "metadata": {
  "jupytext": {
   "main_language": "python"
  },
  "kernelspec": {
   "display_name": "Python 3 (ipykernel)",
   "language": "python",
   "name": "python3"
  },
  "language_info": {
   "codemirror_mode": {
    "name": "ipython",
    "version": 3
   },
   "file_extension": ".py",
   "mimetype": "text/x-python",
   "name": "python",
   "nbconvert_exporter": "python",
   "pygments_lexer": "ipython3",
   "version": "3.9.7"
  }
 },
 "nbformat": 4,
 "nbformat_minor": 5
}
