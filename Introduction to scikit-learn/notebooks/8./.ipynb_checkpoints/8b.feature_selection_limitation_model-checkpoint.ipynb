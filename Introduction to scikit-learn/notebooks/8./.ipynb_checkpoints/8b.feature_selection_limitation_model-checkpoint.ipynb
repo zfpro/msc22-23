{
 "cells": [
  {
   "cell_type": "markdown",
   "id": "315a5988",
   "metadata": {},
   "source": [
    "# Limitation of selecting feature using a model\n",
    "\n",
    "In this notebook, we want to show a limitation when using a machine-learning\n",
    "model to make a selection.\n",
    "\n",
    "Indeed, one can inspect a model and find relative feature importances. For\n",
    "instance, the parameters `coef_` for the linear models or\n",
    "`feature_importances_` for the tree-based models carries such information.\n",
    "Therefore, this method works as far as the relative feature importances given\n",
    "by the model is sufficient to select the meaningful feature.\n",
    "\n",
    "Here, we will generate a dataset that contains a large number of random\n",
    "features."
   ]
  },
  {
   "cell_type": "code",
   "execution_count": 1,
   "id": "e41f6fc6",
   "metadata": {
    "tags": []
   },
   "outputs": [],
   "source": [
    "from sklearn.datasets import make_classification\n",
    "\n",
    "data, target = make_classification(\n",
    "    n_samples=5000,\n",
    "    n_features=100,\n",
    "    n_informative=2,\n",
    "    n_redundant=5,\n",
    "    n_repeated=5,\n",
    "    class_sep=0.3,\n",
    "    random_state=0,\n",
    ")"
   ]
  },
  {
   "cell_type": "markdown",
   "id": "4c75f97e",
   "metadata": {},
   "source": [
    "First, let's build a model which will not make any features selection."
   ]
  },
  {
   "cell_type": "code",
   "execution_count": 2,
   "id": "8d8410d3",
   "metadata": {
    "tags": []
   },
   "outputs": [],
   "source": [
    "from sklearn.ensemble import RandomForestClassifier\n",
    "\n",
    "model_without_selection = RandomForestClassifier()"
   ]
  },
  {
   "cell_type": "markdown",
   "id": "016c32ea",
   "metadata": {},
   "source": [
    "We will evaluate this model by a k-fold cross validation and store the\n",
    "results in a pandas dataframe."
   ]
  },
  {
   "cell_type": "code",
   "execution_count": 3,
   "id": "fee20816",
   "metadata": {
    "tags": []
   },
   "outputs": [],
   "source": [
    "import pandas as pd\n",
    "from sklearn.model_selection import cross_validate\n",
    "\n",
    "cv_results_without_selection = cross_validate(\n",
    "    model_without_selection, data, target, cv=5)\n",
    "cv_results_without_selection = pd.DataFrame(cv_results_without_selection)"
   ]
  },
  {
   "cell_type": "markdown",
   "id": "dedc8a05",
   "metadata": {},
   "source": [
    "Then, we will build another model which will include a feature selection\n",
    "step based on a random forest and evaluate it as well with cross-validation."
   ]
  },
  {
   "cell_type": "code",
   "execution_count": 4,
   "id": "d93801e3",
   "metadata": {
    "tags": []
   },
   "outputs": [],
   "source": [
    "from sklearn.pipeline import make_pipeline\n",
    "from sklearn.feature_selection import SelectFromModel\n",
    "\n",
    "feature_selector = SelectFromModel(RandomForestClassifier())\n",
    "model_with_selection = make_pipeline(\n",
    "    feature_selector, RandomForestClassifier())"
   ]
  },
  {
   "cell_type": "code",
   "execution_count": 5,
   "id": "d0bbdfa6",
   "metadata": {
    "tags": []
   },
   "outputs": [],
   "source": [
    "cv_results_with_selection = cross_validate(model_with_selection, data, target,\n",
    "                                           cv=5)\n",
    "cv_results_with_selection = pd.DataFrame(cv_results_with_selection)"
   ]
  },
  {
   "cell_type": "markdown",
   "id": "e1e089b9",
   "metadata": {},
   "source": [
    "We can compare the testing score of the two models. For this matter,\n",
    "we are combining results in a single dataframe."
   ]
  },
  {
   "cell_type": "code",
   "execution_count": 6,
   "id": "73a53750",
   "metadata": {
    "tags": []
   },
   "outputs": [],
   "source": [
    "cv_results = pd.concat(\n",
    "    [cv_results_without_selection, cv_results_with_selection],\n",
    "    axis=1,\n",
    "    keys=[\"Without feature selection\", \"With feature selection\"],\n",
    ").swaplevel(axis=\"columns\")"
   ]
  },
  {
   "cell_type": "markdown",
   "id": "0d7c4edd",
   "metadata": {},
   "source": [
    "Finally, we can check the testing score of each the model."
   ]
  },
  {
   "cell_type": "code",
   "execution_count": 7,
   "id": "05b6d489",
   "metadata": {
    "tags": []
   },
   "outputs": [
    {
     "data": {
      "image/png": "[encoded data removed]",
      "text/plain": [
       "<Figure size 640x480 with 1 Axes>"
      ]
     },
     "metadata": {},
     "output_type": "display_data"
    }
   ],
   "source": [
    "import matplotlib.pyplot as plt\n",
    "\n",
    "color = {\"whiskers\": \"black\", \"medians\": \"black\", \"caps\": \"black\"}\n",
    "cv_results[\"test_score\"].plot.box(color=color, vert=False)\n",
    "plt.xlabel(\"Accuracy\")\n",
    "_ = plt.title(\"Limitation of using a random forest for feature selection\")"
   ]
  },
  {
   "cell_type": "markdown",
   "id": "72196e53",
   "metadata": {},
   "source": [
    "The model that selected a subset of feature is less performant than a\n",
    "random forest fitted on the full dataset.\n",
    "\n",
    "We can rely on some aspects tackled in the notebook presenting the model\n",
    "inspection to explain this behaviour. The decision tree's relative feature\n",
    "importance will overestimate the importance of random feature when the\n",
    "decision tree overfits the training set.\n",
    "\n",
    "Therefore, it is good to keep in mind that feature selection relies on\n",
    "procedures making some assumptions."
   ]
  },
  {
   "cell_type": "code",
   "execution_count": null,
   "id": "d85521e6-e5ba-4fa2-8437-1637985a3541",
   "metadata": {},
   "outputs": [],
   "source": []
  }
 ],
 "metadata": {
  "jupytext": {
   "main_language": "python"
  },
  "kernelspec": {
   "display_name": "Python 3 (ipykernel)",
   "language": "python",
   "name": "python3"
  },
  "language_info": {
   "codemirror_mode": {
    "name": "ipython",
    "version": 3
   },
   "file_extension": ".py",
   "mimetype": "text/x-python",
   "name": "python",
   "nbconvert_exporter": "python",
   "pygments_lexer": "ipython3",
   "version": "3.9.7"
  }
 },
 "nbformat": 4,
 "nbformat_minor": 5
}
