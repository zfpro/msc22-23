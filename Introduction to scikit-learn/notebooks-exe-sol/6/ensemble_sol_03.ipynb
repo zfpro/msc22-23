{
 "cells": [
  {
   "cell_type": "markdown",
   "id": "a74a2258",
   "metadata": {},
   "source": [
    "# 📃 Solution for Exercise 6.03\n",
    "\n",
    "The aim of this exercise is to:\n",
    "\n",
    "* verifying if a random forest or a gradient-boosting decision tree overfit\n",
    "  if the number of estimators is not properly chosen;\n",
    "* use the early-stopping strategy to avoid adding unnecessary trees, to\n",
    "  get the best generalization performances.\n",
    "\n",
    "We will use the California housing dataset to conduct our experiments."
   ]
  },
  {
   "cell_type": "code",
   "execution_count": null,
   "id": "b43f16a1",
   "metadata": {},
   "outputs": [],
   "source": [
    "from sklearn.datasets import fetch_california_housing\n",
    "from sklearn.model_selection import train_test_split\n",
    "\n",
    "data, target = fetch_california_housing(return_X_y=True, as_frame=True)\n",
    "target *= 100  # rescale the target in k$\n",
    "data_train, data_test, target_train, target_test = train_test_split(\n",
    "    data, target, random_state=0, test_size=0.5)"
   ]
  },
  {
   "cell_type": "markdown",
   "id": "a2dbed2f",
   "metadata": {},
   "source": [
    "Create a gradient boosting decision tree with `max_depth=5` and\n",
    "`learning_rate=0.5`."
   ]
  },
  {
   "cell_type": "code",
   "execution_count": null,
   "id": "f74652ca",
   "metadata": {},
   "outputs": [],
   "source": [
    "# solution\n",
    "from sklearn.ensemble import GradientBoostingRegressor\n",
    "\n",
    "gbdt = GradientBoostingRegressor(max_depth=5, learning_rate=0.5)"
   ]
  },
  {
   "cell_type": "markdown",
   "id": "a424638e",
   "metadata": {},
   "source": [
    "\n",
    "Also create a random forest with fully grown trees by setting `max_depth=None`."
   ]
  },
  {
   "cell_type": "code",
   "execution_count": null,
   "id": "1af797eb",
   "metadata": {},
   "outputs": [],
   "source": [
    "# solution\n",
    "from sklearn.ensemble import RandomForestRegressor\n",
    "\n",
    "forest = RandomForestRegressor(max_depth=None)"
   ]
  },
  {
   "cell_type": "markdown",
   "id": "88d59267",
   "metadata": {},
   "source": [
    "\n",
    "For both the gradient-boosting and random forest models, create a validation\n",
    "curve using the training set to assess the impact of the number of trees on\n",
    "the performance of each model. Evaluate the list of parameters `param_range =\n",
    "[1, 2, 5, 10, 20, 50, 100]` and use the mean absolute error."
   ]
  },
  {
   "cell_type": "code",
   "execution_count": null,
   "id": "040ccd26",
   "metadata": {},
   "outputs": [],
   "source": [
    "# solution\n",
    "from sklearn.model_selection import validation_curve\n",
    "\n",
    "param_range = [1, 2, 5, 10, 20, 50, 100]\n",
    "gbdt_train_scores, gbdt_validation_scores = validation_curve(\n",
    "    gbdt,\n",
    "    data_train,\n",
    "    target_train,\n",
    "    param_name=\"n_estimators\",\n",
    "    param_range=param_range,\n",
    "    scoring=\"neg_mean_absolute_error\",\n",
    "    n_jobs=2,\n",
    ")\n",
    "gbdt_train_errors, gbdt_validation_errors = -gbdt_train_scores, -gbdt_validation_scores\n",
    "\n",
    "forest_train_scores, forest_validation_scores = validation_curve(\n",
    "    forest,\n",
    "    data_train,\n",
    "    target_train,\n",
    "    param_name=\"n_estimators\",\n",
    "    param_range=param_range,\n",
    "    scoring=\"neg_mean_absolute_error\",\n",
    "    n_jobs=2,\n",
    ")\n",
    "forest_train_errors = -forest_train_scores\n",
    "forest_validation_errors = -forest_validation_scores"
   ]
  },
  {
   "cell_type": "code",
   "execution_count": null,
   "id": "337f2173",
   "metadata": {
    "tags": [
     "solution"
    ]
   },
   "outputs": [],
   "source": [
    "import matplotlib.pyplot as plt\n",
    "\n",
    "fig, axs = plt.subplots(ncols=2, sharex=True, sharey=True, figsize=(10, 4))\n",
    "\n",
    "axs[0].errorbar(\n",
    "    param_range,\n",
    "    gbdt_train_errors.mean(axis=1),\n",
    "    yerr=gbdt_train_errors.std(axis=1),\n",
    "    label=\"Training\",\n",
    ")\n",
    "axs[0].errorbar(\n",
    "    param_range,\n",
    "    gbdt_validation_errors.mean(axis=1),\n",
    "    yerr=gbdt_validation_errors.std(axis=1),\n",
    "    label=\"Cross-validation\",\n",
    ")\n",
    "axs[0].set_title(\"Gradient boosting decision tree\")\n",
    "axs[0].set_xlabel(\"# estimators\")\n",
    "axs[0].set_ylabel(\"Mean absolute error in k$\\n(smaller is better)\")\n",
    "\n",
    "axs[1].errorbar(\n",
    "    param_range,\n",
    "    forest_train_errors.mean(axis=1),\n",
    "    yerr=forest_train_errors.std(axis=1),\n",
    "    label=\"Training\",\n",
    ")\n",
    "axs[1].errorbar(\n",
    "    param_range,\n",
    "    forest_validation_errors.mean(axis=1),\n",
    "    yerr=forest_validation_errors.std(axis=1),\n",
    "    label=\"Cross-validation\",\n",
    ")\n",
    "axs[1].set_title(\"Random forest\")\n",
    "axs[1].set_xlabel(\"# estimators\")\n",
    "\n",
    "plt.legend()\n",
    "_ = fig.suptitle(\"Validation curves\", y=1.1)"
   ]
  },
  {
   "cell_type": "markdown",
   "id": "d00be6a3",
   "metadata": {},
   "source": [
    "Both gradient boosting and random forest models will always improve when\n",
    "increasing the number of trees in the ensemble. However, it will reach a\n",
    "plateau where adding new trees will just make fitting and scoring slower.\n",
    "\n",
    "To avoid adding new unnecessary tree, unlike random-forest gradient-boosting\n",
    "offers an early-stopping option. Internally, the algorithm will use an\n",
    "out-of-sample set to compute the generalization performance of the model at\n",
    "each addition of a tree. Thus, if the generalization performance is not\n",
    "improving for several iterations, it will stop adding trees.\n",
    "\n",
    "Now, create a gradient-boosting model with `n_estimators=1_000`. This number\n",
    "of trees will be too large. Change the parameter `n_iter_no_change` such\n",
    "that the gradient boosting fitting will stop after adding 5 trees that do not\n",
    "improve the overall generalization performance."
   ]
  },
  {
   "cell_type": "code",
   "execution_count": null,
   "id": "a30a8db6",
   "metadata": {},
   "outputs": [],
   "source": [
    "# solution\n",
    "gbdt = GradientBoostingRegressor(n_estimators=1_000, n_iter_no_change=5)\n",
    "gbdt.fit(data_train, target_train)\n",
    "gbdt.n_estimators_"
   ]
  },
  {
   "cell_type": "markdown",
   "id": "cb330192",
   "metadata": {
    "tags": [
     "solution"
    ]
   },
   "source": [
    "We see that the number of trees used is far below 1000 with the current\n",
    "dataset. Training the gradient boosting model with the entire 1000 trees\n",
    "would have been useless."
   ]
  },
  {
   "cell_type": "markdown",
   "id": "f9879d16",
   "metadata": {},
   "source": [
    "Estimate the generalization performance of this model again using\n",
    "the `sklearn.metrics.mean_absolute_error` metric but this time using\n",
    "the test set that we held out at the beginning of the notebook.\n",
    "Compare the resulting value with the values observed in the validation\n",
    "curve."
   ]
  },
  {
   "cell_type": "code",
   "execution_count": null,
   "id": "14809229",
   "metadata": {},
   "outputs": [],
   "source": [
    "# solution\n",
    "from sklearn.metrics import mean_absolute_error\n",
    "error = mean_absolute_error(target_test, gbdt.predict(data_test))\n",
    "print(f\"On average, our GBDT regressor makes an error of {error:.2f} k$\")"
   ]
  },
  {
   "cell_type": "markdown",
   "id": "31a7c033",
   "metadata": {
    "tags": [
     "solution"
    ]
   },
   "source": [
    "We observe that the MAE value measure on the held out test set is close to the\n",
    "validation error measured to the right hand side of the validation curve. This\n",
    "is kind of reassuring, as it means that both the cross-validation procedure\n",
    "and the outer train-test split roughly agree as approximations of the true\n",
    "generalization performance of the model. We can observe that the final\n",
    "evaluation of the test error seems to be even slightly below than the\n",
    "cross-validated test scores. This can be explained because the final model has\n",
    "been trained on the full training set while the cross-validation models have\n",
    "been trained on smaller subsets: in general the larger the number of training\n",
    "points, the lower the test error."
   ]
  }
 ],
 "metadata": {
  "jupytext": {
   "main_language": "python"
  },
  "kernelspec": {
   "display_name": "Python 3 (ipykernel)",
   "language": "python",
   "name": "python3"
  },
  "language_info": {
   "codemirror_mode": {
    "name": "ipython",
    "version": 3
   },
   "file_extension": ".py",
   "mimetype": "text/x-python",
   "name": "python",
   "nbconvert_exporter": "python",
   "pygments_lexer": "ipython3",
   "version": "3.9.7"
  }
 },
 "nbformat": 4,
 "nbformat_minor": 5
}
